{
 "cells": [
  {
   "cell_type": "markdown",
   "metadata": {},
   "source": [
    "# Business Proposal\n",
    "Objective of the project\n",
    "\n",
    "    The objective of this Project is to identify better facilities around different neighborhoods which will help people exploring these facilities smartly to take effective decision by selecting great neighborhood out of many other neighborhoods in Scarborough, Toronto.\n",
    "\n",
    "    A lot of people are migrating to a various states of Canada who need to know many important factors like housing prices, reputed schools, available entertainment options, shopping location, food shop and hospital etc. This project aims to enable people looking for better neighborhoods considering the above factors.\n",
    "\n",
    "    Here, I will determine the features of the neighborhood and perform a comparative analysis between them. The features include median housing price and better school according to ratings, crime rates of that particular area, road connectivity, weather conditions, good management for emergency, water resources both fresh and waste water and excrement conveyed in sewers and recreational facilities.\n",
    "\n",
    "    This project will facilitate people by generating awareness of the surrounding area and the neighborhood before moving to the new place.\n",
    "\n",
    "    While planning for suggesting a better neighborhood in a new city for the people who are moving I found some challenges: • Identifying the similarity of people’s social presence and culture • Determining Connectivity to the major location or landmark like airport, bus stand, city center, shopping mall • Analyzing the facilities\n",
    "    For this,:\n",
    "        1.List of housing in terms of prices\n",
    "        2.List of educational institutions in terms of location, fees, rating and reviews\n",
    "The Location:\n",
    "        Immigration to Canada has become a significant issue over the past few years. So people are really interested to immigrate to many Canadian cities. Scarborough is a popular destination for new immigrants in Canada to reside. It is one of the most diverse and multicultural areas in the Greater Toronto Area in Canada. It is a home to various religious groups and places of worship.\n",
    "\n",
    "Foursquare API:\n",
    "        In this project, I will use Four-square API as a prime data source. Because Foursquare has a database of millions of places, especially the API provides the ability to perform location search, location sharing and details about a business type and business category.\n",
    "\n",
    "Work Flow:\n",
    "        I will use the credentials of Foursquare API features of near-by places of the neighborhoods and mine data. Due to http request limitations, I will set the number of places per neighborhood parameter to 100 and the radius parameter to 500.\n",
    "\n",
    "Clustering Approch\n",
    "       To perform a comparative analysis, I will find out the similarities of the two cities. • Then I plan to explore neighborhoods, segment and group them into clusters to find similar neighborhoods in a big city like New York and Toronto. • To complete the task, I need to cluster data which is a form of unsupervised machine learning: k-means clustering algorithm\n",
    "\n",
    "Libraries:\n",
    "Pandas: To create and manipulate dataframe\n",
    "\n",
    "Matplotlib: Python Plotting Module.\n",
    "\n",
    "Beautiful Soup and Requests: To scrap and library to handle http requests.\n",
    "\n",
    "Folium: Python visualization library would be used to visualize the neighborhoods cluster distribution of using interactive leaflet map.\n",
    "\n",
    "\n",
    "JSON: Library to handle JSON files.\n",
    "\n",
    "XML: To separate data from presentation and XML stores data in plain text format.\n",
    "\n",
    "Geocoder: To retrieve Location Data.\n",
    "\n",
    "Scikit Learn: To import k-means clustering.\n",
    "\n"
   ]
  },
  {
   "cell_type": "code",
   "execution_count": null,
   "metadata": {},
   "outputs": [],
   "source": []
  }
 ],
 "metadata": {
  "kernelspec": {
   "display_name": "Python 3",
   "language": "python",
   "name": "python3"
  },
  "language_info": {
   "codemirror_mode": {
    "name": "ipython",
    "version": 3
   },
   "file_extension": ".py",
   "mimetype": "text/x-python",
   "name": "python",
   "nbconvert_exporter": "python",
   "pygments_lexer": "ipython3",
   "version": "3.7.6"
  }
 },
 "nbformat": 4,
 "nbformat_minor": 4
}
