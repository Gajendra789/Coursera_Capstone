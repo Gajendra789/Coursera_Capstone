{
 "cells": [
  {
   "cell_type": "markdown",
   "metadata": {},
   "source": [
    "# Data Description:\n",
    "\n",
    "Data source Link: https://en.wikipedia.org/wiki/List_of_postal_codes_of_Canada:_M  (provided in problem description )\n",
    "\n",
    "\n",
    "I am using Scarborough dataset which we scrapped from wikipedia on Week 3. This Dataset consists of latitude and longitude.\n",
    "\n",
    "Foursquare API Data:\n",
    "    To perform the project work, I require the data about different venues in different neighborhoods of that specific borough. To get this data, I will use \"Foursquare\" locational information.\n",
    "    Foursquare is a location data provider with information including venues and events within an area of interest.\n",
    "    The information includes venue names, locations, menus and even photos. Therefore, to obtain all this information, the foursquare location API will be used as the sole data source.\n",
    "    After listing the neighborhoods, I will connect to the Foursquare API to gather information about venues inside each and every neighborhood.\n",
    "    For each neighborhood, the radius will be 100 meter. The data retrieved from Foursquare will contain information as below:\n",
    "\n",
    "Neighborhood:\n",
    "Latitude of the Neighborhood\n",
    "Longitude of the Neighborhood\n",
    "Venue\n",
    "Name of the venue (example: store or school name)\n",
    "Longitude of the Venue\n",
    "Latitude of the Venue\n",
    "Venue Category"
   ]
  },
  {
   "cell_type": "code",
   "execution_count": null,
   "metadata": {},
   "outputs": [],
   "source": []
  }
 ],
 "metadata": {
  "kernelspec": {
   "display_name": "Python 3",
   "language": "python",
   "name": "python3"
  },
  "language_info": {
   "codemirror_mode": {
    "name": "ipython",
    "version": 3
   },
   "file_extension": ".py",
   "mimetype": "text/x-python",
   "name": "python",
   "nbconvert_exporter": "python",
   "pygments_lexer": "ipython3",
   "version": "3.7.6"
  }
 },
 "nbformat": 4,
 "nbformat_minor": 4
}
